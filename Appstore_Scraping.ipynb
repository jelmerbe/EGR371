{
  "nbformat": 4,
  "nbformat_minor": 0,
  "metadata": {
    "colab": {
      "name": "Appstore_Scraping.ipynb",
      "provenance": [],
      "authorship_tag": "ABX9TyN/4mLp0a618wwrbicLfA7G",
      "include_colab_link": true
    },
    "kernelspec": {
      "name": "python3",
      "display_name": "Python 3"
    },
    "language_info": {
      "name": "python"
    }
  },
  "cells": [
    {
      "cell_type": "markdown",
      "metadata": {
        "id": "view-in-github",
        "colab_type": "text"
      },
      "source": [
        "<a href=\"https://colab.research.google.com/github/jelmerbe/EGR371/blob/main/Appstore_Scraping.ipynb\" target=\"_parent\"><img src=\"https://colab.research.google.com/assets/colab-badge.svg\" alt=\"Open In Colab\"/></a>"
      ]
    },
    {
      "cell_type": "code",
      "source": [
        "#Help from: https://python.plainenglish.io/scraping-app-store-reviews-with-python-90e4117ccdfb \n",
        "!pip install app_store_scraper"
      ],
      "metadata": {
        "colab": {
          "base_uri": "https://localhost:8080/"
        },
        "id": "qrB6Uj_2PB17",
        "outputId": "1ec28a2d-0161-484a-9808-d69d8d40a86b"
      },
      "execution_count": 3,
      "outputs": [
        {
          "output_type": "stream",
          "name": "stdout",
          "text": [
            "Collecting app_store_scraper\n",
            "  Downloading app_store_scraper-0.3.5-py3-none-any.whl (8.3 kB)\n",
            "Requirement already satisfied: requests==2.23.0 in /usr/local/lib/python3.7/dist-packages (from app_store_scraper) (2.23.0)\n",
            "Requirement already satisfied: chardet<4,>=3.0.2 in /usr/local/lib/python3.7/dist-packages (from requests==2.23.0->app_store_scraper) (3.0.4)\n",
            "Requirement already satisfied: certifi>=2017.4.17 in /usr/local/lib/python3.7/dist-packages (from requests==2.23.0->app_store_scraper) (2021.10.8)\n",
            "Requirement already satisfied: idna<3,>=2.5 in /usr/local/lib/python3.7/dist-packages (from requests==2.23.0->app_store_scraper) (2.10)\n",
            "Requirement already satisfied: urllib3!=1.25.0,!=1.25.1,<1.26,>=1.21.1 in /usr/local/lib/python3.7/dist-packages (from requests==2.23.0->app_store_scraper) (1.24.3)\n",
            "Installing collected packages: app-store-scraper\n",
            "Successfully installed app-store-scraper-0.3.5\n"
          ]
        }
      ]
    },
    {
      "cell_type": "code",
      "execution_count": 4,
      "metadata": {
        "id": "roIrYjHKN_Xw"
      },
      "outputs": [],
      "source": [
        "import pandas as pd\n",
        "\n",
        "# for scraping app info from App Store\n",
        "#from itunes_app_scraper.scraper import AppStoreScraper\n",
        "\n",
        "# for scraping app reviews from App Store\n",
        "from app_store_scraper import AppStore\n",
        "\n",
        "# for pretty printing data structures\n",
        "from pprint import pprint\n",
        "\n",
        "# for keeping track of timing\n",
        "import datetime as dt\n",
        "from tzlocal import get_localzone\n",
        "\n",
        "# for building in wait times\n",
        "import random\n",
        "import time"
      ]
    },
    {
      "cell_type": "code",
      "source": [
        "## Read in file containing app names and IDs\n",
        "app_df = pd.read_csv('Appstore_IDs.csv')\n",
        "app_df.head()\n",
        "\n"
      ],
      "metadata": {
        "id": "G4yltAmhPL5O",
        "colab": {
          "base_uri": "https://localhost:8080/",
          "height": 206
        },
        "outputId": "dd434397-de10-461e-8e92-39250df3192d"
      },
      "execution_count": 22,
      "outputs": [
        {
          "output_type": "execute_result",
          "data": {
            "text/plain": [
              "        App_name  IOS_revs                  IOS_app_name  IOS_app_id\n",
              "0          Nosh         25              nosh-delivery-co  1458880342\n",
              "1    Food Dudes         44                    food-dudes  1180442819\n",
              "2    Club Feast       1100  clubfeast-same-meals-40-less  1540351670\n",
              "3  352 Delivery          9                  352-delivery  1096351281\n",
              "4  Delivery Coop         5                 delivery-coop  1537667951"
            ],
            "text/html": [
              "\n",
              "  <div id=\"df-3e900d42-15f0-4182-9809-1344ee4f836a\">\n",
              "    <div class=\"colab-df-container\">\n",
              "      <div>\n",
              "<style scoped>\n",
              "    .dataframe tbody tr th:only-of-type {\n",
              "        vertical-align: middle;\n",
              "    }\n",
              "\n",
              "    .dataframe tbody tr th {\n",
              "        vertical-align: top;\n",
              "    }\n",
              "\n",
              "    .dataframe thead th {\n",
              "        text-align: right;\n",
              "    }\n",
              "</style>\n",
              "<table border=\"1\" class=\"dataframe\">\n",
              "  <thead>\n",
              "    <tr style=\"text-align: right;\">\n",
              "      <th></th>\n",
              "      <th>App_name</th>\n",
              "      <th>IOS_revs</th>\n",
              "      <th>IOS_app_name</th>\n",
              "      <th>IOS_app_id</th>\n",
              "    </tr>\n",
              "  </thead>\n",
              "  <tbody>\n",
              "    <tr>\n",
              "      <th>0</th>\n",
              "      <td>Nosh</td>\n",
              "      <td>25</td>\n",
              "      <td>nosh-delivery-co</td>\n",
              "      <td>1458880342</td>\n",
              "    </tr>\n",
              "    <tr>\n",
              "      <th>1</th>\n",
              "      <td>Food Dudes</td>\n",
              "      <td>44</td>\n",
              "      <td>food-dudes</td>\n",
              "      <td>1180442819</td>\n",
              "    </tr>\n",
              "    <tr>\n",
              "      <th>2</th>\n",
              "      <td>Club Feast</td>\n",
              "      <td>1100</td>\n",
              "      <td>clubfeast-same-meals-40-less</td>\n",
              "      <td>1540351670</td>\n",
              "    </tr>\n",
              "    <tr>\n",
              "      <th>3</th>\n",
              "      <td>352 Delivery</td>\n",
              "      <td>9</td>\n",
              "      <td>352-delivery</td>\n",
              "      <td>1096351281</td>\n",
              "    </tr>\n",
              "    <tr>\n",
              "      <th>4</th>\n",
              "      <td>Delivery Coop</td>\n",
              "      <td>5</td>\n",
              "      <td>delivery-coop</td>\n",
              "      <td>1537667951</td>\n",
              "    </tr>\n",
              "  </tbody>\n",
              "</table>\n",
              "</div>\n",
              "      <button class=\"colab-df-convert\" onclick=\"convertToInteractive('df-3e900d42-15f0-4182-9809-1344ee4f836a')\"\n",
              "              title=\"Convert this dataframe to an interactive table.\"\n",
              "              style=\"display:none;\">\n",
              "        \n",
              "  <svg xmlns=\"http://www.w3.org/2000/svg\" height=\"24px\"viewBox=\"0 0 24 24\"\n",
              "       width=\"24px\">\n",
              "    <path d=\"M0 0h24v24H0V0z\" fill=\"none\"/>\n",
              "    <path d=\"M18.56 5.44l.94 2.06.94-2.06 2.06-.94-2.06-.94-.94-2.06-.94 2.06-2.06.94zm-11 1L8.5 8.5l.94-2.06 2.06-.94-2.06-.94L8.5 2.5l-.94 2.06-2.06.94zm10 10l.94 2.06.94-2.06 2.06-.94-2.06-.94-.94-2.06-.94 2.06-2.06.94z\"/><path d=\"M17.41 7.96l-1.37-1.37c-.4-.4-.92-.59-1.43-.59-.52 0-1.04.2-1.43.59L10.3 9.45l-7.72 7.72c-.78.78-.78 2.05 0 2.83L4 21.41c.39.39.9.59 1.41.59.51 0 1.02-.2 1.41-.59l7.78-7.78 2.81-2.81c.8-.78.8-2.07 0-2.86zM5.41 20L4 18.59l7.72-7.72 1.47 1.35L5.41 20z\"/>\n",
              "  </svg>\n",
              "      </button>\n",
              "      \n",
              "  <style>\n",
              "    .colab-df-container {\n",
              "      display:flex;\n",
              "      flex-wrap:wrap;\n",
              "      gap: 12px;\n",
              "    }\n",
              "\n",
              "    .colab-df-convert {\n",
              "      background-color: #E8F0FE;\n",
              "      border: none;\n",
              "      border-radius: 50%;\n",
              "      cursor: pointer;\n",
              "      display: none;\n",
              "      fill: #1967D2;\n",
              "      height: 32px;\n",
              "      padding: 0 0 0 0;\n",
              "      width: 32px;\n",
              "    }\n",
              "\n",
              "    .colab-df-convert:hover {\n",
              "      background-color: #E2EBFA;\n",
              "      box-shadow: 0px 1px 2px rgba(60, 64, 67, 0.3), 0px 1px 3px 1px rgba(60, 64, 67, 0.15);\n",
              "      fill: #174EA6;\n",
              "    }\n",
              "\n",
              "    [theme=dark] .colab-df-convert {\n",
              "      background-color: #3B4455;\n",
              "      fill: #D2E3FC;\n",
              "    }\n",
              "\n",
              "    [theme=dark] .colab-df-convert:hover {\n",
              "      background-color: #434B5C;\n",
              "      box-shadow: 0px 1px 3px 1px rgba(0, 0, 0, 0.15);\n",
              "      filter: drop-shadow(0px 1px 2px rgba(0, 0, 0, 0.3));\n",
              "      fill: #FFFFFF;\n",
              "    }\n",
              "  </style>\n",
              "\n",
              "      <script>\n",
              "        const buttonEl =\n",
              "          document.querySelector('#df-3e900d42-15f0-4182-9809-1344ee4f836a button.colab-df-convert');\n",
              "        buttonEl.style.display =\n",
              "          google.colab.kernel.accessAllowed ? 'block' : 'none';\n",
              "\n",
              "        async function convertToInteractive(key) {\n",
              "          const element = document.querySelector('#df-3e900d42-15f0-4182-9809-1344ee4f836a');\n",
              "          const dataTable =\n",
              "            await google.colab.kernel.invokeFunction('convertToInteractive',\n",
              "                                                     [key], {});\n",
              "          if (!dataTable) return;\n",
              "\n",
              "          const docLinkHtml = 'Like what you see? Visit the ' +\n",
              "            '<a target=\"_blank\" href=https://colab.research.google.com/notebooks/data_table.ipynb>data table notebook</a>'\n",
              "            + ' to learn more about interactive tables.';\n",
              "          element.innerHTML = '';\n",
              "          dataTable['output_type'] = 'display_data';\n",
              "          await google.colab.output.renderOutput(dataTable, element);\n",
              "          const docLink = document.createElement('div');\n",
              "          docLink.innerHTML = docLinkHtml;\n",
              "          element.appendChild(docLink);\n",
              "        }\n",
              "      </script>\n",
              "    </div>\n",
              "  </div>\n",
              "  "
            ]
          },
          "metadata": {},
          "execution_count": 22
        }
      ]
    },
    {
      "cell_type": "code",
      "source": [
        "## Get list of app names and app IDs\n",
        "app_names = list(app_df['IOS_app_name'])\n",
        "app_ids = list(app_df['IOS_app_id'])"
      ],
      "metadata": {
        "id": "PmH_AXcMPRJj"
      },
      "execution_count": 23,
      "outputs": []
    },
    {
      "cell_type": "code",
      "source": [
        "## Set up loop to go through all apps\n",
        "for app_name, app_id in zip(app_names, app_ids):\n",
        "    \n",
        "    # Get start time\n",
        "    start = dt.datetime.now(tz=get_localzone())\n",
        "    fmt= \"%m/%d/%y - %T %p\"\n",
        "    \n",
        "    # Print starting output for app\n",
        "    print('---'*20)\n",
        "    print('---'*20)    \n",
        "    print(f'***** {app_name} started at {start.strftime(fmt)}')\n",
        "    print()\n",
        "    \n",
        "    # Instantiate AppStore for app\n",
        "    app_ = AppStore(country='us', app_name=app_name, app_id=app_id)\n",
        "    \n",
        "    # Scrape reviews posted since February 28, 2020 and limit to 10,000 reviews\n",
        "    app_.review(how_many=10000,\n",
        "                after=dt.datetime(2020, 2, 28),\n",
        "                sleep=random.randint(20,25))\n",
        "    \n",
        "    reviews = app_.reviews\n",
        "    \n",
        "    # Add keys to store information about which app each review is for\n",
        "    for rvw in reviews:\n",
        "        rvw['app_name'] = app_name\n",
        "        rvw['app_id'] = app_id\n",
        "    \n",
        "    # Print update that scraping was completed\n",
        "    print(f\"\"\"Done scraping {app_name}. \n",
        "    Scraped a total of {app_.reviews_count} reviews.\\n\"\"\")\n",
        "    \n",
        "    # Convert list of dicts to Pandas DataFrame and write to csv\n",
        "    review_df = pd.DataFrame(reviews)\n",
        "    review_df.to_csv( app_name + '.csv', index=False)\n",
        "    \n",
        "    # Get end time\n",
        "    end = dt.datetime.now(tz=get_localzone())\n",
        "    \n",
        "    # Print ending output for app\n",
        "    print(f\"\"\"Successfully wrote {app_name} reviews to csv\n",
        "    at {end.strftime(fmt)}.\\n\"\"\")\n",
        "    print(f'Time elapsed for {app_name}: {end-start}')\n",
        "    print('---'*20)\n",
        "    print('---'*20)\n",
        "    print('\\n')\n",
        "    \n",
        "    # Wait 5 to 10 seconds to start scraping next app\n",
        "    time.sleep(random.randint(5,10))"
      ],
      "metadata": {
        "colab": {
          "base_uri": "https://localhost:8080/"
        },
        "id": "fH8vwcIJX2FZ",
        "outputId": "6237ca1c-fb1a-423b-b400-42a218d2623d"
      },
      "execution_count": 24,
      "outputs": [
        {
          "output_type": "stream",
          "name": "stdout",
          "text": [
            "------------------------------------------------------------\n",
            "------------------------------------------------------------\n",
            "***** nosh-delivery-co started at 03/31/22 - 01:15:34 AM\n",
            "\n"
          ]
        },
        {
          "output_type": "stream",
          "name": "stderr",
          "text": [
            "2022-03-31 01:15:35,498 [INFO] Base - Initialised: AppStore('us', 'nosh-delivery-co', 1458880342)\n",
            "2022-03-31 01:15:35,500 [INFO] Base - Ready to fetch reviews from: https://apps.apple.com/us/app/nosh-delivery-co/id1458880342\n",
            "2022-03-31 01:16:00,621 [INFO] Base - [id:1458880342] Fetched 18 reviews (18 fetched in total)\n",
            "2022-03-31 01:16:26,017 [INFO] Base - [id:1458880342] Fetched 31 reviews (31 fetched in total)\n"
          ]
        },
        {
          "output_type": "stream",
          "name": "stdout",
          "text": [
            "Done scraping nosh-delivery-co. \n",
            "    Scraped a total of 31 reviews.\n",
            "\n",
            "Successfully wrote nosh-delivery-co reviews to csv\n",
            "    at 03/31/22 - 01:16:26 AM.\n",
            "\n",
            "Time elapsed for nosh-delivery-co: 0:00:51.533205\n",
            "------------------------------------------------------------\n",
            "------------------------------------------------------------\n",
            "\n",
            "\n",
            "------------------------------------------------------------\n",
            "------------------------------------------------------------\n",
            "***** food-dudes started at 03/31/22 - 01:16:33 AM\n",
            "\n"
          ]
        },
        {
          "output_type": "stream",
          "name": "stderr",
          "text": [
            "2022-03-31 01:16:33,559 [INFO] Base - Initialised: AppStore('us', 'food-dudes', 1180442819)\n",
            "2022-03-31 01:16:33,560 [INFO] Base - Ready to fetch reviews from: https://apps.apple.com/us/app/food-dudes/id1180442819\n",
            "2022-03-31 01:16:58,702 [INFO] Base - [id:1180442819] Fetched 12 reviews (12 fetched in total)\n",
            "2022-03-31 01:16:58,775 [INFO] Base - [id:1180442819] Fetched 13 reviews (13 fetched in total)\n"
          ]
        },
        {
          "output_type": "stream",
          "name": "stdout",
          "text": [
            "Done scraping food-dudes. \n",
            "    Scraped a total of 13 reviews.\n",
            "\n",
            "Successfully wrote food-dudes reviews to csv\n",
            "    at 03/31/22 - 01:16:58 AM.\n",
            "\n",
            "Time elapsed for food-dudes: 0:00:25.749330\n",
            "------------------------------------------------------------\n",
            "------------------------------------------------------------\n",
            "\n",
            "\n",
            "------------------------------------------------------------\n",
            "------------------------------------------------------------\n",
            "***** clubfeast-same-meals-40-less started at 03/31/22 - 01:17:05 AM\n",
            "\n"
          ]
        },
        {
          "output_type": "stream",
          "name": "stderr",
          "text": [
            "2022-03-31 01:17:06,455 [INFO] Base - Initialised: AppStore('us', 'clubfeast-same-meals-40-less', 1540351670)\n",
            "2022-03-31 01:17:06,456 [INFO] Base - Ready to fetch reviews from: https://apps.apple.com/us/app/clubfeast-same-meals-40-less/id1540351670\n",
            "2022-03-31 01:17:29,639 [INFO] Base - [id:1540351670] Fetched 20 reviews (20 fetched in total)\n",
            "2022-03-31 01:18:15,948 [INFO] Base - [id:1540351670] Fetched 60 reviews (60 fetched in total)\n",
            "2022-03-31 01:19:02,222 [INFO] Base - [id:1540351670] Fetched 100 reviews (100 fetched in total)\n",
            "2022-03-31 01:19:25,941 [INFO] Base - [id:1540351670] Fetched 126 reviews (126 fetched in total)\n"
          ]
        },
        {
          "output_type": "stream",
          "name": "stdout",
          "text": [
            "Done scraping clubfeast-same-meals-40-less. \n",
            "    Scraped a total of 126 reviews.\n",
            "\n",
            "Successfully wrote clubfeast-same-meals-40-less reviews to csv\n",
            "    at 03/31/22 - 01:19:25 AM.\n",
            "\n",
            "Time elapsed for clubfeast-same-meals-40-less: 0:02:20.164753\n",
            "------------------------------------------------------------\n",
            "------------------------------------------------------------\n",
            "\n",
            "\n",
            "------------------------------------------------------------\n",
            "------------------------------------------------------------\n",
            "***** 352-delivery started at 03/31/22 - 01:19:32 AM\n",
            "\n"
          ]
        },
        {
          "output_type": "stream",
          "name": "stderr",
          "text": [
            "2022-03-31 01:19:33,780 [INFO] Base - Initialised: AppStore('us', '352-delivery', 1096351281)\n",
            "2022-03-31 01:19:33,782 [INFO] Base - Ready to fetch reviews from: https://apps.apple.com/us/app/352-delivery/id1096351281\n",
            "2022-03-31 01:19:33,866 [INFO] Base - [id:1096351281] Fetched 3 reviews (3 fetched in total)\n"
          ]
        },
        {
          "output_type": "stream",
          "name": "stdout",
          "text": [
            "Done scraping 352-delivery. \n",
            "    Scraped a total of 3 reviews.\n",
            "\n",
            "Successfully wrote 352-delivery reviews to csv\n",
            "    at 03/31/22 - 01:19:33 AM.\n",
            "\n",
            "Time elapsed for 352-delivery: 0:00:00.910066\n",
            "------------------------------------------------------------\n",
            "------------------------------------------------------------\n",
            "\n",
            "\n",
            "------------------------------------------------------------\n",
            "------------------------------------------------------------\n",
            "***** delivery-coop started at 03/31/22 - 01:19:39 AM\n",
            "\n"
          ]
        },
        {
          "output_type": "stream",
          "name": "stderr",
          "text": [
            "2022-03-31 01:19:40,853 [INFO] Base - Initialised: AppStore('us', 'delivery-coop', 1537667951)\n",
            "2022-03-31 01:19:40,857 [INFO] Base - Ready to fetch reviews from: https://apps.apple.com/us/app/delivery-coop/id1537667951\n",
            "2022-03-31 01:19:40,979 [INFO] Base - [id:1537667951] Fetched 1 reviews (1 fetched in total)\n"
          ]
        },
        {
          "output_type": "stream",
          "name": "stdout",
          "text": [
            "Done scraping delivery-coop. \n",
            "    Scraped a total of 1 reviews.\n",
            "\n",
            "Successfully wrote delivery-coop reviews to csv\n",
            "    at 03/31/22 - 01:19:40 AM.\n",
            "\n",
            "Time elapsed for delivery-coop: 0:00:01.106687\n",
            "------------------------------------------------------------\n",
            "------------------------------------------------------------\n",
            "\n",
            "\n",
            "------------------------------------------------------------\n",
            "------------------------------------------------------------\n",
            "***** chomp-delivery started at 03/31/22 - 01:19:47 AM\n",
            "\n"
          ]
        },
        {
          "output_type": "stream",
          "name": "stderr",
          "text": [
            "2022-03-31 01:19:48,354 [INFO] Base - Initialised: AppStore('us', 'chomp-delivery', 1293884319)\n",
            "2022-03-31 01:19:48,355 [INFO] Base - Ready to fetch reviews from: https://apps.apple.com/us/app/chomp-delivery/id1293884319\n",
            "2022-03-31 01:19:48,464 [INFO] Base - [id:1293884319] Fetched 8 reviews (8 fetched in total)\n"
          ]
        },
        {
          "output_type": "stream",
          "name": "stdout",
          "text": [
            "Done scraping chomp-delivery. \n",
            "    Scraped a total of 8 reviews.\n",
            "\n",
            "Successfully wrote chomp-delivery reviews to csv\n",
            "    at 03/31/22 - 01:19:48 AM.\n",
            "\n",
            "Time elapsed for chomp-delivery: 0:00:00.475735\n",
            "------------------------------------------------------------\n",
            "------------------------------------------------------------\n",
            "\n",
            "\n",
            "------------------------------------------------------------\n",
            "------------------------------------------------------------\n",
            "***** ordereats started at 03/31/22 - 01:19:53 AM\n",
            "\n"
          ]
        },
        {
          "output_type": "stream",
          "name": "stderr",
          "text": [
            "2022-03-31 01:19:54,211 [INFO] Base - Initialised: AppStore('us', 'ordereats', 1472734341)\n",
            "2022-03-31 01:19:54,213 [INFO] Base - Ready to fetch reviews from: https://apps.apple.com/us/app/ordereats/id1472734341\n",
            "2022-03-31 01:19:54,360 [INFO] Base - [id:1472734341] Fetched 14 reviews (14 fetched in total)\n"
          ]
        },
        {
          "output_type": "stream",
          "name": "stdout",
          "text": [
            "Done scraping ordereats. \n",
            "    Scraped a total of 14 reviews.\n",
            "\n",
            "Successfully wrote ordereats reviews to csv\n",
            "    at 03/31/22 - 01:19:54 AM.\n",
            "\n",
            "Time elapsed for ordereats: 0:00:00.890153\n",
            "------------------------------------------------------------\n",
            "------------------------------------------------------------\n",
            "\n",
            "\n",
            "------------------------------------------------------------\n",
            "------------------------------------------------------------\n",
            "***** chop-chop-rva started at 03/31/22 - 01:19:59 AM\n",
            "\n"
          ]
        },
        {
          "output_type": "stream",
          "name": "stderr",
          "text": [
            "2022-03-31 01:19:59,888 [INFO] Base - Initialised: AppStore('us', 'chop-chop-rva', 1343912948)\n",
            "2022-03-31 01:19:59,889 [INFO] Base - Ready to fetch reviews from: https://apps.apple.com/us/app/chop-chop-rva/id1343912948\n",
            "2022-03-31 01:20:24,020 [INFO] Base - [id:1343912948] Fetched 11 reviews (11 fetched in total)\n",
            "2022-03-31 01:20:24,074 [INFO] Base - [id:1343912948] Fetched 13 reviews (13 fetched in total)\n"
          ]
        },
        {
          "output_type": "stream",
          "name": "stdout",
          "text": [
            "Done scraping chop-chop-rva. \n",
            "    Scraped a total of 13 reviews.\n",
            "\n",
            "Successfully wrote chop-chop-rva reviews to csv\n",
            "    at 03/31/22 - 01:20:24 AM.\n",
            "\n",
            "Time elapsed for chop-chop-rva: 0:00:24.705288\n",
            "------------------------------------------------------------\n",
            "------------------------------------------------------------\n",
            "\n",
            "\n",
            "------------------------------------------------------------\n",
            "------------------------------------------------------------\n",
            "***** candlestick-courier-collective started at 03/31/22 - 01:20:30 AM\n",
            "\n"
          ]
        },
        {
          "output_type": "stream",
          "name": "stderr",
          "text": [
            "2022-03-31 01:20:35,749 [INFO] Base - Initialised: AppStore('us', 'candlestick-courier-collective', 1509900617)\n",
            "2022-03-31 01:20:35,751 [INFO] Base - Ready to fetch reviews from: https://apps.apple.com/us/app/candlestick-courier-collective/id1509900617\n",
            "2022-03-31 01:20:35,890 [INFO] Base - [id:1509900617] Fetched 4 reviews (4 fetched in total)\n"
          ]
        },
        {
          "output_type": "stream",
          "name": "stdout",
          "text": [
            "Done scraping candlestick-courier-collective. \n",
            "    Scraped a total of 4 reviews.\n",
            "\n",
            "Successfully wrote candlestick-courier-collective reviews to csv\n",
            "    at 03/31/22 - 01:20:35 AM.\n",
            "\n",
            "Time elapsed for candlestick-courier-collective: 0:00:05.812621\n",
            "------------------------------------------------------------\n",
            "------------------------------------------------------------\n",
            "\n",
            "\n",
            "------------------------------------------------------------\n",
            "------------------------------------------------------------\n",
            "***** slurpalicious started at 03/31/22 - 01:20:45 AM\n",
            "\n"
          ]
        },
        {
          "output_type": "stream",
          "name": "stderr",
          "text": [
            "2022-03-31 01:20:46,494 [INFO] Base - Initialised: AppStore('us', 'slurpalicious', 1436784682)\n",
            "2022-03-31 01:20:46,496 [INFO] Base - Ready to fetch reviews from: https://apps.apple.com/us/app/slurpalicious/id1436784682\n",
            "2022-03-31 01:21:05,400 [ERROR] Base - Something went wrong: HTTPSConnectionPool(host='amp-api.apps.apple.com', port=443): Max retries exceeded with url: /v1/catalog/us/apps/1436784682/reviews?l=en-GB&offset=0&limit=20&platform=web&additionalPlatforms=appletv%2Cipad%2Ciphone%2Cmac (Caused by ResponseError('too many 404 error responses'))\n",
            "2022-03-31 01:21:05,403 [INFO] Base - [id:1436784682] Fetched 0 reviews (0 fetched in total)\n"
          ]
        },
        {
          "output_type": "stream",
          "name": "stdout",
          "text": [
            "Done scraping slurpalicious. \n",
            "    Scraped a total of 0 reviews.\n",
            "\n",
            "Successfully wrote slurpalicious reviews to csv\n",
            "    at 03/31/22 - 01:21:05 AM.\n",
            "\n",
            "Time elapsed for slurpalicious: 0:00:19.498651\n",
            "------------------------------------------------------------\n",
            "------------------------------------------------------------\n",
            "\n",
            "\n",
            "------------------------------------------------------------\n",
            "------------------------------------------------------------\n",
            "***** foodie-taxi started at 03/31/22 - 01:21:13 AM\n",
            "\n"
          ]
        },
        {
          "output_type": "stream",
          "name": "stderr",
          "text": [
            "2022-03-31 01:21:14,638 [INFO] Base - Initialised: AppStore('us', 'foodie-taxi', 1532344975)\n",
            "2022-03-31 01:21:14,639 [INFO] Base - Ready to fetch reviews from: https://apps.apple.com/us/app/foodie-taxi/id1532344975\n",
            "2022-03-31 01:21:32,741 [ERROR] Base - Something went wrong: HTTPSConnectionPool(host='amp-api.apps.apple.com', port=443): Max retries exceeded with url: /v1/catalog/us/apps/1532344975/reviews?l=en-GB&offset=0&limit=20&platform=web&additionalPlatforms=appletv%2Cipad%2Ciphone%2Cmac (Caused by ResponseError('too many 404 error responses'))\n",
            "2022-03-31 01:21:32,743 [INFO] Base - [id:1532344975] Fetched 0 reviews (0 fetched in total)\n"
          ]
        },
        {
          "output_type": "stream",
          "name": "stdout",
          "text": [
            "Done scraping foodie-taxi. \n",
            "    Scraped a total of 0 reviews.\n",
            "\n",
            "Successfully wrote foodie-taxi reviews to csv\n",
            "    at 03/31/22 - 01:21:32 AM.\n",
            "\n",
            "Time elapsed for foodie-taxi: 0:00:19.332829\n",
            "------------------------------------------------------------\n",
            "------------------------------------------------------------\n",
            "\n",
            "\n",
            "------------------------------------------------------------\n",
            "------------------------------------------------------------\n",
            "***** takeout-2-you started at 03/31/22 - 01:21:40 AM\n",
            "\n"
          ]
        },
        {
          "output_type": "stream",
          "name": "stderr",
          "text": [
            "2022-03-31 01:21:41,132 [INFO] Base - Initialised: AppStore('us', 'takeout-2-you', 1495399456)\n",
            "2022-03-31 01:21:41,134 [INFO] Base - Ready to fetch reviews from: https://apps.apple.com/us/app/takeout-2-you/id1495399456\n",
            "2022-03-31 01:21:41,308 [INFO] Base - [id:1495399456] Fetched 1 reviews (1 fetched in total)\n"
          ]
        },
        {
          "output_type": "stream",
          "name": "stdout",
          "text": [
            "Done scraping takeout-2-you. \n",
            "    Scraped a total of 1 reviews.\n",
            "\n",
            "Successfully wrote takeout-2-you reviews to csv\n",
            "    at 03/31/22 - 01:21:41 AM.\n",
            "\n",
            "Time elapsed for takeout-2-you: 0:00:00.560268\n",
            "------------------------------------------------------------\n",
            "------------------------------------------------------------\n",
            "\n",
            "\n",
            "------------------------------------------------------------\n",
            "------------------------------------------------------------\n",
            "***** windy-city-delivery started at 03/31/22 - 01:21:47 AM\n",
            "\n"
          ]
        },
        {
          "output_type": "stream",
          "name": "stderr",
          "text": [
            "2022-03-31 01:21:48,058 [INFO] Base - Initialised: AppStore('us', 'windy-city-delivery', 1515760401)\n",
            "2022-03-31 01:21:48,060 [INFO] Base - Ready to fetch reviews from: https://apps.apple.com/us/app/windy-city-delivery/id1515760401\n",
            "2022-03-31 01:21:48,198 [INFO] Base - [id:1515760401] Fetched 2 reviews (2 fetched in total)\n"
          ]
        },
        {
          "output_type": "stream",
          "name": "stdout",
          "text": [
            "Done scraping windy-city-delivery. \n",
            "    Scraped a total of 2 reviews.\n",
            "\n",
            "Successfully wrote windy-city-delivery reviews to csv\n",
            "    at 03/31/22 - 01:21:48 AM.\n",
            "\n",
            "Time elapsed for windy-city-delivery: 0:00:00.883733\n",
            "------------------------------------------------------------\n",
            "------------------------------------------------------------\n",
            "\n",
            "\n",
            "------------------------------------------------------------\n",
            "------------------------------------------------------------\n",
            "***** get-loco started at 03/31/22 - 01:21:58 AM\n",
            "\n"
          ]
        },
        {
          "output_type": "stream",
          "name": "stderr",
          "text": [
            "2022-03-31 01:21:58,593 [INFO] Base - Initialised: AppStore('us', 'get-loco', 1536569174)\n",
            "2022-03-31 01:21:58,595 [INFO] Base - Ready to fetch reviews from: https://apps.apple.com/us/app/get-loco/id1536569174\n",
            "2022-03-31 01:21:58,791 [INFO] Base - [id:1536569174] Fetched 18 reviews (18 fetched in total)\n"
          ]
        },
        {
          "output_type": "stream",
          "name": "stdout",
          "text": [
            "Done scraping get-loco. \n",
            "    Scraped a total of 18 reviews.\n",
            "\n",
            "Successfully wrote get-loco reviews to csv\n",
            "    at 03/31/22 - 01:21:58 AM.\n",
            "\n",
            "Time elapsed for get-loco: 0:00:00.580397\n",
            "------------------------------------------------------------\n",
            "------------------------------------------------------------\n",
            "\n",
            "\n"
          ]
        }
      ]
    },
    {
      "cell_type": "code",
      "source": [
        "# importing pandas\n",
        "import pandas as pd\n",
        "  \n",
        "# Foodie-taxi and Slurpalicious - error, no reviews, excluded from file \n",
        "\n",
        "# merging two csv files\n",
        "df = pd.concat(\n",
        "    map(pd.read_csv, ['352-delivery.csv', 'chomp-delivery.csv', 'delivery-coop.csv', \n",
        "                      'food-dudes.csv', 'nosh-delivery-co.csv',\n",
        "                      'clubfeast-same-meals-40-less.csv', 'ordereats.csv','chop-chop-rva.csv',\n",
        "                      'get-loco.csv', 'takeout-2-you.csv', 'windy-city-delivery.csv'  ])  , ignore_index=True)\n",
        "print(df)"
      ],
      "metadata": {
        "colab": {
          "base_uri": "https://localhost:8080/"
        },
        "id": "FjzukLkvbm0v",
        "outputId": "200fe14b-fcea-415f-b190-bd0b6e64c281"
      },
      "execution_count": 47,
      "outputs": [
        {
          "output_type": "stream",
          "name": "stdout",
          "text": [
            "              userName  rating  \\\n",
            "0         reviewer #3?       5   \n",
            "1    Quincy Van Winkle       1   \n",
            "2           alsnenckwo       1   \n",
            "3           MaryCP2011       3   \n",
            "4          ncarterette       1   \n",
            "..                 ...     ...   \n",
            "225        EddieMac477       1   \n",
            "226           PhilRDoc       2   \n",
            "227     Kennidad James       5   \n",
            "228              KizrK       5   \n",
            "229           redraych       1   \n",
            "\n",
            "                                                review  \\\n",
            "0    I haven’t had any delay or crashes, there are ...   \n",
            "1    Support local, sure. But this app is missing s...   \n",
            "2    Completely inefficient. There is no world wher...   \n",
            "3    Your app needs work!  It’s so clunky & super b...   \n",
            "4    One star - First of all The restaurant and the...   \n",
            "..                                                 ...   \n",
            "225  I’ve been able to successfully use this app 1 ...   \n",
            "226  I love the idea of supporting local business, ...   \n",
            "227  Great options and awesome people doing deliver...   \n",
            "228  In terms of the app does a great job of orderi...   \n",
            "229  See my previous review about changing the addr...   \n",
            "\n",
            "                                                 title                 date  \\\n",
            "0    Haven’t used it much but seems designed quite ...  2020-03-12 23:22:09   \n",
            "1                                 This app is lacking.  2020-07-18 23:51:51   \n",
            "2                                                  Bad  2020-11-10 18:23:40   \n",
            "3                                   Not terrible BUT..  2021-01-09 19:24:16   \n",
            "4                                             Disaster  2020-04-04 00:25:04   \n",
            "..                                                 ...                  ...   \n",
            "225                                         The worst!  2021-10-10 22:00:03   \n",
            "226                              Beware of menu prices  2022-03-27 00:07:02   \n",
            "227                                             Great!  2022-03-02 01:12:15   \n",
            "228                                    Great service!!  2020-12-20 00:56:26   \n",
            "229                                Still does not work  2020-08-25 18:19:24   \n",
            "\n",
            "     isEdited             app_name      app_id  \\\n",
            "0       False         352-delivery  1096351281   \n",
            "1       False         352-delivery  1096351281   \n",
            "2       False         352-delivery  1096351281   \n",
            "3       False       chomp-delivery  1293884319   \n",
            "4       False       chomp-delivery  1293884319   \n",
            "..        ...                  ...         ...   \n",
            "225     False             get-loco  1536569174   \n",
            "226     False             get-loco  1536569174   \n",
            "227     False        takeout-2-you  1495399456   \n",
            "228     False  windy-city-delivery  1515760401   \n",
            "229      True  windy-city-delivery  1515760401   \n",
            "\n",
            "                                     developerResponse  \n",
            "0                                                  NaN  \n",
            "1                                                  NaN  \n",
            "2                                                  NaN  \n",
            "3                                                  NaN  \n",
            "4                                                  NaN  \n",
            "..                                                 ...  \n",
            "225                                                NaN  \n",
            "226                                                NaN  \n",
            "227                                                NaN  \n",
            "228                                                NaN  \n",
            "229  {'id': 16866302, 'body': 'Hi Redraych. Thank y...  \n",
            "\n",
            "[230 rows x 9 columns]\n"
          ]
        }
      ]
    },
    {
      "cell_type": "code",
      "source": [
        "#Export to concated file to csv \n",
        "df.to_excel('App_Store_Reviews.xlsx')"
      ],
      "metadata": {
        "id": "XZC7FJ8jb9hS"
      },
      "execution_count": 48,
      "outputs": []
    }
  ]
}